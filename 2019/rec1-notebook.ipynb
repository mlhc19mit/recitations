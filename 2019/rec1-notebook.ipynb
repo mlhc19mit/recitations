{
 "cells": [
  {
   "cell_type": "markdown",
   "metadata": {},
   "source": [
    "# Recitation 1: More about MIMIC"
   ]
  },
  {
   "cell_type": "markdown",
   "metadata": {},
   "source": [
    "MIMIC-III is the largest publically available clinical dataset.\n",
    "\n",
    "Here we seek to do two exploratory tasks:\n",
    "\n",
    "1) Plot age distribution at admissions.\n",
    "\n",
    "2) Plot heart rates. Then heart rates by age."
   ]
  },
  {
   "cell_type": "code",
   "execution_count": 1,
   "metadata": {},
   "outputs": [
    {
     "name": "stderr",
     "output_type": "stream",
     "text": [
      "/afs/csail.mit.edu/u/i/iychen/.local/lib/python2.7/site-packages/psycopg2/__init__.py:144: UserWarning: The psycopg2 wheel package will be renamed from release 2.8; in order to keep installing from binary please use \"pip install psycopg2-binary\" instead. For details see: <http://initd.org/psycopg/docs/install.html#binary-install-from-pypi>.\n",
      "  \"\"\")\n"
     ]
    }
   ],
   "source": [
    "import datetime\n",
    "import numpy as np\n",
    "\n",
    "import pandas as pd\n",
    "import psycopg2\n",
    "\n",
    "\n",
    "%matplotlib inline\n",
    "from matplotlib import pyplot as plt\n",
    "\n",
    "def clean_plot():\n",
    "    ax = plt.subplot(111) \n",
    "    ax.spines[\"top\"].set_visible(False) \n",
    "    ax.spines[\"bottom\"].set_visible(False) \n",
    "    ax.spines[\"right\"].set_visible(False) \n",
    "    ax.spines[\"left\"].set_visible(False) \n",
    "    ax.grid()\n",
    "    ax.get_xaxis().tick_bottom() \n",
    "    ax.get_yaxis().tick_left() "
   ]
  },
  {
   "cell_type": "markdown",
   "metadata": {},
   "source": [
    "Let's set up our connection to our MIMIC postgres server. For more information on installing MIMIC, see the [official documentation](https://mimic.physionet.org/gettingstarted/dbsetup/).\n",
    "\n"
   ]
  },
  {
   "cell_type": "code",
   "execution_count": 2,
   "metadata": {},
   "outputs": [
    {
     "name": "stdout",
     "output_type": "stream",
     "text": [
      "46520\n",
      "58976\n"
     ]
    }
   ],
   "source": [
    "sqluser = 'iychen' # change this to whatever your username is\n",
    "dbname = 'mimic'\n",
    "schema_name = 'mimiciii'\n",
    "\n",
    "# Connect to local postgres version of mimic\n",
    "con = psycopg2.connect(dbname=dbname, user=sqluser)\n",
    "cur = con.cursor()\n",
    "cur.execute('SET search_path to ' + schema_name)\n",
    "\n",
    "query = \\\n",
    "\"\"\"\n",
    "select \n",
    "   subject_id, dob\n",
    "from patients\n",
    "\"\"\"\n",
    "\n",
    "patients_df = pd.read_sql_query(query,con)\n",
    "print len(patients_df)\n",
    "\n",
    "query = \\\n",
    "\"\"\"\n",
    "select\n",
    "   subject_id, admittime, insurance\n",
    "from admissions\n",
    "\"\"\"\n",
    "\n",
    "admissions_df = pd.read_sql_query(query, con)\n",
    "print len(admissions_df)"
   ]
  },
  {
   "cell_type": "markdown",
   "metadata": {},
   "source": [
    "Since the patients table has the date of birth and the admissions table has the date of admission, we need to merge the two tables using the field `subject_id`, which is shared across both tables."
   ]
  },
  {
   "cell_type": "code",
   "execution_count": 3,
   "metadata": {},
   "outputs": [],
   "source": [
    "df = admissions_df.merge(patients_df, on='subject_id', how='left')"
   ]
  },
  {
   "cell_type": "markdown",
   "metadata": {},
   "source": [
    "Working with dates and times is tricky in Python, so we write a function to compute the age. Note that subtracting two datetimes will give us the distance in seconds, and we divide appropriately. "
   ]
  },
  {
   "cell_type": "code",
   "execution_count": 4,
   "metadata": {},
   "outputs": [],
   "source": [
    "def get_age(dob, admittime):\n",
    "    diff = (admittime - dob).total_seconds() / (3600 * 24 * 365.25)\n",
    "    return diff"
   ]
  },
  {
   "cell_type": "code",
   "execution_count": 5,
   "metadata": {},
   "outputs": [],
   "source": [
    "df['age'] = df.apply(lambda x: get_age(x['dob'], x['admittime']), axis=1)"
   ]
  },
  {
   "cell_type": "markdown",
   "metadata": {},
   "source": [
    "We are finally ready to plot the distribution of ages for our dataset! As expected, we have two spikes around 0 and 300 due to the neonatal ICU and the HIPAA-compliant obscuring of ages for people over 90. "
   ]
  },
  {
   "cell_type": "code",
   "execution_count": 6,
   "metadata": {},
   "outputs": [
    {
     "data": {
      "image/png": "[encoded data removed]",
      "text/plain": [
       "<matplotlib.figure.Figure at 0x7f3600792110>"
      ]
     },
     "metadata": {},
     "output_type": "display_data"
    }
   ],
   "source": [
    "plt.hist(df['age'], bins=100, normed=True)\n",
    "clean_plot()\n",
    "plt.show()"
   ]
  },
  {
   "cell_type": "markdown",
   "metadata": {},
   "source": [
    "Next we want to plot the distribution of heart rates in our dataset. We see that the information we want is from `chartevents`. "
   ]
  },
  {
   "cell_type": "code",
   "execution_count": 8,
   "metadata": {},
   "outputs": [
    {
     "name": "stdout",
     "output_type": "stream",
     "text": [
      "7941588\n"
     ]
    }
   ],
   "source": [
    "query = \\\n",
    "\"\"\"\n",
    "select * from chartevents \n",
    "where itemid in (211, 220045) and valuenum is not null\n",
    "\"\"\"\n",
    "\n",
    "hrt_df = pd.read_sql_query(query,con)\n",
    "print len(hrt_df)"
   ]
  },
  {
   "cell_type": "markdown",
   "metadata": {},
   "source": [
    "Recall that MIMIC-III covers the time period when Beth Israel Deaconness Medical Center transitioned from one medical system to another. These two systems are called Carevue and Metavision.\n",
    "\n",
    "We see that Carevue has a bimodal heart rate distribution."
   ]
  },
  {
   "cell_type": "code",
   "execution_count": 10,
   "metadata": {},
   "outputs": [],
   "source": [
    "hrt_df['system'] = hrt_df['itemid'].apply(lambda x: 'Carevue' if x == 211 else 'Metavision')"
   ]
  },
  {
   "cell_type": "code",
   "execution_count": 11,
   "metadata": {},
   "outputs": [
    {
     "data": {
      "image/png": "[encoded data removed]",
      "text/plain": [
       "<matplotlib.figure.Figure at 0x7f35d4a56e90>"
      ]
     },
     "metadata": {},
     "output_type": "display_data"
    }
   ],
   "source": [
    "c_values = hrt_df[hrt_df['system'] == 'Carevue']['value'].astype(float)\n",
    "c_values = [i for i in c_values if not np.isnan(i)]\n",
    "c_values = [i for i in c_values if i <= 250 and i >= 30]\n",
    "plt.hist(c_values,bins=50)\n",
    "plt.show()"
   ]
  },
  {
   "cell_type": "markdown",
   "metadata": {},
   "source": [
    "As noted in Lecture 3, Metavision has a single modal heart rate distribution. Why?"
   ]
  },
  {
   "cell_type": "code",
   "execution_count": 12,
   "metadata": {},
   "outputs": [
    {
     "data": {
      "image/png": "[encoded data removed]",
      "text/plain": [
       "<matplotlib.figure.Figure at 0x7f35d4832410>"
      ]
     },
     "metadata": {},
     "output_type": "display_data"
    }
   ],
   "source": [
    "m_values = hrt_df[hrt_df['system'] == 'Metavision']['value'].astype(float)\n",
    "m_values = [i for i in m_values if not np.isnan(i)]\n",
    "m_values = [i for i in m_values if i <= 250 and i >= 30]\n",
    "plt.hist(m_values, bins=50)\n",
    "plt.show()"
   ]
  },
  {
   "cell_type": "code",
   "execution_count": 13,
   "metadata": {},
   "outputs": [
    {
     "data": {
      "image/png": "[encoded data removed]",
      "text/plain": [
       "<matplotlib.figure.Figure at 0x7f3552935710>"
      ]
     },
     "metadata": {},
     "output_type": "display_data"
    }
   ],
   "source": [
    "plt.hist(m_values, normed=True, bins=np.linspace(30,250,50),alpha=0.5, label='Metavision')\n",
    "plt.hist(c_values, normed=True, bins=np.linspace(30,250,50),alpha=0.5, label='Carevue')\n",
    "plt.legend()\n",
    "clean_plot()\n",
    "plt.show()"
   ]
  },
  {
   "cell_type": "markdown",
   "metadata": {},
   "source": [
    "What about heart rates by ages? First we want to merge back onto our patient table."
   ]
  },
  {
   "cell_type": "code",
   "execution_count": 14,
   "metadata": {},
   "outputs": [],
   "source": [
    "df2 = hrt_df.merge(patients_df, on='subject_id', how='left')"
   ]
  },
  {
   "cell_type": "code",
   "execution_count": 15,
   "metadata": {},
   "outputs": [
    {
     "name": "stdout",
     "output_type": "stream",
     "text": [
      "7941588\n"
     ]
    }
   ],
   "source": [
    "print len(df2)"
   ]
  },
  {
   "cell_type": "markdown",
   "metadata": {},
   "source": [
    "Because the heart rate table has over 7 million rows, it takes awhile to get anything done. Let's only use the first occurrence of each patient and use the heart rate there."
   ]
  },
  {
   "cell_type": "code",
   "execution_count": 25,
   "metadata": {},
   "outputs": [
    {
     "name": "stdout",
     "output_type": "stream",
     "text": [
      "45988\n"
     ]
    }
   ],
   "source": [
    "df3 = df2.groupby('subject_id', as_index=False).first()\n",
    "print len(df3)"
   ]
  },
  {
   "cell_type": "markdown",
   "metadata": {},
   "source": [
    "Next we want to remove any outliers in age and in heart rate. Also we notice that heart rate is a string, so we convert to float."
   ]
  },
  {
   "cell_type": "code",
   "execution_count": 34,
   "metadata": {},
   "outputs": [],
   "source": [
    "df3['age'] = df3.apply(lambda x: get_age(x['dob'], x['charttime']), axis=1)\n",
    "\n",
    "df3['value'] = df3['value'].astype(float)"
   ]
  },
  {
   "cell_type": "code",
   "execution_count": 35,
   "metadata": {},
   "outputs": [
    {
     "name": "stdout",
     "output_type": "stream",
     "text": [
      "310.2785763175907 0.0\n",
      "204.0 30.0\n"
     ]
    }
   ],
   "source": [
    "print np.max(df3['age']), np.min(df3['age'])\n",
    "print np.max(df3['value']), np.min(df3['value'])"
   ]
  },
  {
   "cell_type": "code",
   "execution_count": 37,
   "metadata": {},
   "outputs": [],
   "source": [
    "df3 = df3[(df3['age'] >= 0) & (df3['age'] < 400)]\n",
    "df3 = df3[(df3['value'] >= 30) & (df3['value'] <= 250)]"
   ]
  },
  {
   "cell_type": "code",
   "execution_count": 38,
   "metadata": {},
   "outputs": [
    {
     "name": "stdout",
     "output_type": "stream",
     "text": [
      "45795\n"
     ]
    }
   ],
   "source": [
    "print len(df3)"
   ]
  },
  {
   "cell_type": "markdown",
   "metadata": {},
   "source": [
    "Now we can finally plot our heart rate distribution by age! As expected, this explains the bimodal distribution from Carevue because it now includes neonatal patients as well."
   ]
  },
  {
   "cell_type": "code",
   "execution_count": 39,
   "metadata": {},
   "outputs": [
    {
     "data": {
      "text/plain": [
       "[<matplotlib.lines.Line2D at 0x7f35d45e1e90>]"
      ]
     },
     "execution_count": 39,
     "metadata": {},
     "output_type": "execute_result"
    },
    {
     "data": {
      "image/png": "[encoded data removed]",
      "text/plain": [
       "<matplotlib.figure.Figure at 0x7f3552880850>"
      ]
     },
     "metadata": {},
     "output_type": "display_data"
    }
   ],
   "source": [
    "plt.plot(df3['age'], df3['value'], '.')"
   ]
  },
  {
   "cell_type": "markdown",
   "metadata": {},
   "source": [
    "# Logistic Regression\n",
    "\n",
    "We want to demonstrate how to run a logistic regression on a toy problem: predicting death from other admissions quantities.\n",
    "\n",
    "Note that we don't differentiate out types of death (in hopsital, in-ICU) and we are only using admissions numbers."
   ]
  },
  {
   "cell_type": "code",
   "execution_count": 44,
   "metadata": {},
   "outputs": [
    {
     "name": "stdout",
     "output_type": "stream",
     "text": [
      "46520\n"
     ]
    }
   ],
   "source": [
    "query = \\\n",
    "\"\"\"\n",
    "select \n",
    "   *\n",
    "from patients\n",
    "\"\"\"\n",
    "\n",
    "patients_df = pd.read_sql_query(query,con)\n",
    "print len(patients_df)"
   ]
  },
  {
   "cell_type": "code",
   "execution_count": null,
   "metadata": {},
   "outputs": [],
   "source": [
    "admissions_df"
   ]
  },
  {
   "cell_type": "code",
   "execution_count": 49,
   "metadata": {},
   "outputs": [
    {
     "name": "stdout",
     "output_type": "stream",
     "text": [
      "58976\n"
     ]
    }
   ],
   "source": [
    "query = \\\n",
    "\"\"\"\n",
    "select\n",
    "   *\n",
    "from admissions\n",
    "\"\"\"\n",
    "\n",
    "admissions_df = pd.read_sql_query(query, con)\n",
    "print len(admissions_df)"
   ]
  },
  {
   "cell_type": "markdown",
   "metadata": {},
   "source": [
    "For our output label, we choose `hospital_expire_flag`, which is 1 if a patient dies or 0 if not."
   ]
  },
  {
   "cell_type": "code",
   "execution_count": 54,
   "metadata": {},
   "outputs": [
    {
     "data": {
      "text/plain": [
       "0.09926071622354857"
      ]
     },
     "execution_count": 54,
     "metadata": {},
     "output_type": "execute_result"
    }
   ],
   "source": [
    "admissions_df['hospital_expire_flag'].mean()"
   ]
  },
  {
   "cell_type": "markdown",
   "metadata": {},
   "source": [
    "Although we could use many more features (and we do in HW1), we choose four simple features to include in this model.\n",
    "\n",
    "Note that because all of our features are categorical, we need to binarize our data using `get_dummies` which transforms a categorical feature of `x = ['a', 'b', 'a']` to `x = [[1, 0], [0,1], [1,0]]` where the columns are `a, b`. "
   ]
  },
  {
   "cell_type": "code",
   "execution_count": 98,
   "metadata": {},
   "outputs": [],
   "source": [
    "X1 = pd.get_dummies(admissions_df['admission_type'], prefix='adm')\n",
    "X2 = pd.get_dummies(admissions_df['admission_location'],prefix='loc')\n",
    "X3 = pd.get_dummies(admissions_df['insurance'], prefix='insur')\n",
    "X4 = pd.get_dummies(admissions_df['marital_status'], prefix='marital')"
   ]
  },
  {
   "cell_type": "code",
   "execution_count": 99,
   "metadata": {},
   "outputs": [],
   "source": [
    "X = pd.concat([X1, X2, X3, X4], axis=1)\n",
    "y = admissions_df['hospital_expire_flag']"
   ]
  },
  {
   "cell_type": "code",
   "execution_count": 100,
   "metadata": {},
   "outputs": [
    {
     "name": "stdout",
     "output_type": "stream",
     "text": [
      "(58976, 25)\n",
      "(58976,)\n"
     ]
    }
   ],
   "source": [
    "print X.shape\n",
    "print y.shape"
   ]
  },
  {
   "cell_type": "markdown",
   "metadata": {},
   "source": [
    "Lastly we train a logistic regression using standard ML techniques like splitting into train and test sets. We are mostly interested in the AUC, so we compute the predicted probability and compare to the true label."
   ]
  },
  {
   "cell_type": "code",
   "execution_count": 102,
   "metadata": {},
   "outputs": [],
   "source": [
    "clf = LogisticRegression()"
   ]
  },
  {
   "cell_type": "code",
   "execution_count": 103,
   "metadata": {},
   "outputs": [],
   "source": [
    "X_train, X_test, y_train, y_test = train_test_split(X,y,train_size=0.7)"
   ]
  },
  {
   "cell_type": "code",
   "execution_count": 104,
   "metadata": {},
   "outputs": [
    {
     "name": "stdout",
     "output_type": "stream",
     "text": [
      "0.90069519018821\n"
     ]
    }
   ],
   "source": [
    "clf.fit(X_train,y_train)\n",
    "print clf.score(X_test,y_test)"
   ]
  },
  {
   "cell_type": "code",
   "execution_count": 105,
   "metadata": {},
   "outputs": [],
   "source": [
    "y_probs = clf.predict_proba(X_test)[:,1]"
   ]
  },
  {
   "cell_type": "code",
   "execution_count": 106,
   "metadata": {},
   "outputs": [
    {
     "name": "stdout",
     "output_type": "stream",
     "text": [
      "0.6966738789249199\n"
     ]
    }
   ],
   "source": [
    "print roc_auc_score(y_test, y_probs)"
   ]
  },
  {
   "cell_type": "markdown",
   "metadata": {},
   "source": [
    "How does each feature contribute to a person's likelihood of dying in the hospital? We can examine the LR coefficients for that."
   ]
  },
  {
   "cell_type": "code",
   "execution_count": 108,
   "metadata": {},
   "outputs": [
    {
     "name": "stdout",
     "output_type": "stream",
     "text": [
      "adm_NEWBORN -2.362588072315625\n",
      "marital_SINGLE -1.1263287531918926\n",
      "marital_LIFE PARTNER -1.0335357846593487\n",
      "marital_DIVORCED -0.883965570562124\n",
      "marital_MARRIED -0.7965596873557327\n",
      "marital_SEPARATED -0.7601818007072149\n",
      "insur_Government -0.73249373071663\n",
      "marital_WIDOWED -0.6846488546143337\n",
      "loc_PHYS REFERRAL/NORMAL DELI -0.6366554885217509\n",
      "adm_ELECTIVE -0.5719963557598011\n",
      "loc_CLINIC REFERRAL/PREMATURE -0.5153404673007015\n",
      "insur_Medicaid -0.46347966621285563\n",
      "insur_Private -0.4594082219285568\n",
      "loc_TRSF WITHIN THIS FACILITY -0.4132519712387847\n",
      "marital_UNKNOWN (DEFAULT) -0.34160504626592353\n",
      "loc_EMERGENCY ROOM ADMIT -0.33443265315165105\n",
      "loc_TRANSFER FROM HOSP/EXTRAM -0.3264593259041748\n",
      "loc_TRANSFER FROM OTHER HEALT -0.107928938471283\n",
      "loc_TRANSFER FROM SKILLED NUR 0.07117429834907459\n",
      "insur_Medicare 0.073442779364\n",
      "insur_Self Pay 0.14290015020296432\n",
      "loc_** INFO NOT AVAILABLE ** 0.14414603595626907\n",
      "adm_URGENT 0.6518055888445157\n",
      "loc_HMO REFERRAL/SICK 0.6797098210849573\n",
      "adm_EMERGENCY 0.8437401497812353\n"
     ]
    }
   ],
   "source": [
    "for i,j in sorted(zip(X.columns,clf.coef_[0]), key=lambda x: x[1]):\n",
    "    print i,j"
   ]
  },
  {
   "cell_type": "code",
   "execution_count": null,
   "metadata": {},
   "outputs": [],
   "source": []
  }
 ],
 "metadata": {
  "kernelspec": {
   "display_name": "Python 2",
   "language": "python",
   "name": "python2"
  },
  "language_info": {
   "codemirror_mode": {
    "name": "ipython",
    "version": 2
   },
   "file_extension": ".py",
   "mimetype": "text/x-python",
   "name": "python",
   "nbconvert_exporter": "python",
   "pygments_lexer": "ipython2",
   "version": "2.7.12"
  }
 },
 "nbformat": 4,
 "nbformat_minor": 2
}
